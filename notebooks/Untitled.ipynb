{
 "cells": [
  {
   "cell_type": "code",
   "execution_count": null,
   "id": "ed373521-8ee0-4df8-bf47-d68703e959eb",
   "metadata": {},
   "outputs": [],
   "source": []
  }
 ],
 "metadata": {
  "kernelspec": {
   "display_name": "",
   "name": ""
  },
  "language_info": {
   "name": ""
  }
 },
 "nbformat": 4,
 "nbformat_minor": 5
}
